{
 "cells": [
  {
   "cell_type": "code",
   "execution_count": 1,
   "metadata": {},
   "outputs": [
    {
     "data": {
      "text/html": [
       "<div>\n",
       "<style scoped>\n",
       "    .dataframe tbody tr th:only-of-type {\n",
       "        vertical-align: middle;\n",
       "    }\n",
       "\n",
       "    .dataframe tbody tr th {\n",
       "        vertical-align: top;\n",
       "    }\n",
       "\n",
       "    .dataframe thead th {\n",
       "        text-align: right;\n",
       "    }\n",
       "</style>\n",
       "<table border=\"1\" class=\"dataframe\">\n",
       "  <thead>\n",
       "    <tr style=\"text-align: right;\">\n",
       "      <th></th>\n",
       "      <th>0</th>\n",
       "      <th>1</th>\n",
       "      <th>2</th>\n",
       "      <th>3</th>\n",
       "      <th>4</th>\n",
       "      <th>5</th>\n",
       "      <th>6</th>\n",
       "      <th>7</th>\n",
       "      <th>8</th>\n",
       "      <th>9</th>\n",
       "      <th>10</th>\n",
       "      <th>11</th>\n",
       "      <th>12</th>\n",
       "    </tr>\n",
       "  </thead>\n",
       "  <tbody>\n",
       "    <tr>\n",
       "      <th>0</th>\n",
       "      <td>id</td>\n",
       "      <td>address</td>\n",
       "      <td>abuse_type_id</td>\n",
       "      <td>abuse_type_other</td>\n",
       "      <td>abuser</td>\n",
       "      <td>description</td>\n",
       "      <td>from_country</td>\n",
       "      <td>from_country_code</td>\n",
       "      <td>created_at</td>\n",
       "      <td>None</td>\n",
       "      <td>None</td>\n",
       "      <td>None</td>\n",
       "      <td>None</td>\n",
       "    </tr>\n",
       "    <tr>\n",
       "      <th>1</th>\n",
       "      <td>1</td>\n",
       "      <td>12t9YDPgwueZ9NyMgw519p7AA8isjr6SMw</td>\n",
       "      <td>1</td>\n",
       "      <td></td>\n",
       "      <td>wannacry</td>\n",
       "      <td>https://bitcointalk.org/index.php?topic=1916199.0</td>\n",
       "      <td></td>\n",
       "      <td></td>\n",
       "      <td>2017-05-16T04:28:13.000000Z</td>\n",
       "      <td>None</td>\n",
       "      <td>None</td>\n",
       "      <td>None</td>\n",
       "      <td>None</td>\n",
       "    </tr>\n",
       "  </tbody>\n",
       "</table>\n",
       "</div>"
      ],
      "text/plain": [
       "   0                                   1              2                 3   \\\n",
       "0  id                             address  abuse_type_id  abuse_type_other   \n",
       "1   1  12t9YDPgwueZ9NyMgw519p7AA8isjr6SMw              1                     \n",
       "\n",
       "         4                                                  5             6   \\\n",
       "0    abuser                                        description  from_country   \n",
       "1  wannacry  https://bitcointalk.org/index.php?topic=1916199.0                 \n",
       "\n",
       "                  7                            8     9     10    11    12  \n",
       "0  from_country_code                   created_at  None  None  None  None  \n",
       "1                     2017-05-16T04:28:13.000000Z  None  None  None  None  "
      ]
     },
     "execution_count": 1,
     "metadata": {},
     "output_type": "execute_result"
    }
   ],
   "source": [
    "import pandas as pd\n",
    "import numpy as np\n",
    "import csv \n",
    "\n",
    "f = open('220523_abuse_data.csv', encoding = \"utf8\")\n",
    "reader = csv.reader(f)\n",
    "csv_list = []\n",
    "for i in reader:\n",
    "    csv_list.append(i)\n",
    "f.close()\n",
    "log_df = pd.DataFrame(csv_list)\n",
    "log_df.head(2)"
   ]
  },
  {
   "cell_type": "code",
   "execution_count": 6,
   "metadata": {},
   "outputs": [
    {
     "data": {
      "text/html": [
       "<div>\n",
       "<style scoped>\n",
       "    .dataframe tbody tr th:only-of-type {\n",
       "        vertical-align: middle;\n",
       "    }\n",
       "\n",
       "    .dataframe tbody tr th {\n",
       "        vertical-align: top;\n",
       "    }\n",
       "\n",
       "    .dataframe thead th {\n",
       "        text-align: right;\n",
       "    }\n",
       "</style>\n",
       "<table border=\"1\" class=\"dataframe\">\n",
       "  <thead>\n",
       "    <tr style=\"text-align: right;\">\n",
       "      <th></th>\n",
       "      <th>1</th>\n",
       "      <th>2</th>\n",
       "    </tr>\n",
       "  </thead>\n",
       "  <tbody>\n",
       "    <tr>\n",
       "      <th>0</th>\n",
       "      <td>address</td>\n",
       "      <td>abuse_type_id</td>\n",
       "    </tr>\n",
       "    <tr>\n",
       "      <th>1</th>\n",
       "      <td>12t9YDPgwueZ9NyMgw519p7AA8isjr6SMw</td>\n",
       "      <td>1</td>\n",
       "    </tr>\n",
       "    <tr>\n",
       "      <th>2</th>\n",
       "      <td>115p7UMMngoj1pMvkpHijcRdfJNXj6LrLn</td>\n",
       "      <td>1</td>\n",
       "    </tr>\n",
       "    <tr>\n",
       "      <th>3</th>\n",
       "      <td>13AM4VW2dhxYgXeQepoHkHSQuy6NgaEb94</td>\n",
       "      <td>1</td>\n",
       "    </tr>\n",
       "    <tr>\n",
       "      <th>4</th>\n",
       "      <td>13AM4VW2dhxYgXeQepoHkHSQuy6NgaEb94</td>\n",
       "      <td>1</td>\n",
       "    </tr>\n",
       "    <tr>\n",
       "      <th>5</th>\n",
       "      <td>1Doho93x24sbs4jyPw6wn87xjQSuFS8wrt</td>\n",
       "      <td>99</td>\n",
       "    </tr>\n",
       "    <tr>\n",
       "      <th>6</th>\n",
       "      <td>1HRfpKi6sY2yaqKi7DK3TtdGULtthHWAzk</td>\n",
       "      <td>99</td>\n",
       "    </tr>\n",
       "    <tr>\n",
       "      <th>7</th>\n",
       "      <td>1LuYWbsnoyAHCwsLTguswPPXgubDA8kLuF</td>\n",
       "      <td>99</td>\n",
       "    </tr>\n",
       "    <tr>\n",
       "      <th>8</th>\n",
       "      <td>1KAZH8xQnZQrGBLqB8VorX1XSGEVLgjnj1</td>\n",
       "      <td>99</td>\n",
       "    </tr>\n",
       "    <tr>\n",
       "      <th>9</th>\n",
       "      <td>1CamL5swGf1sVCkzuya6TyE1KXAT3xmdxZ</td>\n",
       "      <td>99</td>\n",
       "    </tr>\n",
       "  </tbody>\n",
       "</table>\n",
       "</div>"
      ],
      "text/plain": [
       "                                    1              2\n",
       "0                             address  abuse_type_id\n",
       "1  12t9YDPgwueZ9NyMgw519p7AA8isjr6SMw              1\n",
       "2  115p7UMMngoj1pMvkpHijcRdfJNXj6LrLn              1\n",
       "3  13AM4VW2dhxYgXeQepoHkHSQuy6NgaEb94              1\n",
       "4  13AM4VW2dhxYgXeQepoHkHSQuy6NgaEb94              1\n",
       "5  1Doho93x24sbs4jyPw6wn87xjQSuFS8wrt             99\n",
       "6  1HRfpKi6sY2yaqKi7DK3TtdGULtthHWAzk             99\n",
       "7  1LuYWbsnoyAHCwsLTguswPPXgubDA8kLuF             99\n",
       "8  1KAZH8xQnZQrGBLqB8VorX1XSGEVLgjnj1             99\n",
       "9  1CamL5swGf1sVCkzuya6TyE1KXAT3xmdxZ             99"
      ]
     },
     "execution_count": 6,
     "metadata": {},
     "output_type": "execute_result"
    }
   ],
   "source": [
    "raw_data= pd.concat([log_df[1], log_df[2]], axis=1)\n",
    "raw_data.head(10)"
   ]
  },
  {
   "cell_type": "markdown",
   "metadata": {},
   "source": []
  },
  {
   "cell_type": "code",
   "execution_count": 21,
   "metadata": {},
   "outputs": [],
   "source": [
    "# 1: ransomware\n",
    "# 2: blackmail scam\n",
    "# 3: sextortion\n",
    "# 4: darknet market\n",
    "# 5: bitcoin tumbler\n",
    "# 99: other\n",
    "# raw_data.to_csv('abuse_adress_.csv', header = False, index = False)"
   ]
  },
  {
   "cell_type": "code",
   "execution_count": 27,
   "metadata": {},
   "outputs": [],
   "source": [
    "t = raw_data[2] == '99'\n",
    "save_data = raw_data[t]\n",
    "save_data = pd.concat([save_data[1]], axis=1)\n",
    "save_data.columns = ['Address']\n",
    "save_data.to_csv('abuse_other_address.csv', header=True, index=False)"
   ]
  },
  {
   "cell_type": "code",
   "execution_count": 16,
   "metadata": {},
   "outputs": [],
   "source": []
  },
  {
   "cell_type": "code",
   "execution_count": 18,
   "metadata": {},
   "outputs": [],
   "source": []
  },
  {
   "cell_type": "code",
   "execution_count": null,
   "metadata": {},
   "outputs": [],
   "source": []
  }
 ],
 "metadata": {
  "kernelspec": {
   "display_name": "Python 3.8.12 ('bitcoin')",
   "language": "python",
   "name": "python3"
  },
  "language_info": {
   "codemirror_mode": {
    "name": "ipython",
    "version": 3
   },
   "file_extension": ".py",
   "mimetype": "text/x-python",
   "name": "python",
   "nbconvert_exporter": "python",
   "pygments_lexer": "ipython3",
   "version": "3.8.12"
  },
  "orig_nbformat": 4,
  "vscode": {
   "interpreter": {
    "hash": "6532af847629dfbde4bdeea7762203a0b5346e9cf124809d3cbdb69b4b9a2aad"
   }
  }
 },
 "nbformat": 4,
 "nbformat_minor": 2
}
