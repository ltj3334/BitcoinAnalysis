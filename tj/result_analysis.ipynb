{
 "cells": [
  {
   "cell_type": "code",
   "execution_count": 66,
   "metadata": {},
   "outputs": [],
   "source": [
    "import pandas as pd\n",
    "import numpy as np\n",
    "import os\n",
    "\n",
    "# abuse sextortion : 458개 주소\n",
    "# chainalysis ransomware : 9716개 주소\n",
    "total_number = 458\n",
    "\n",
    "file_list = os.listdir(f\"./\")\n",
    "first_filter_target_list = []\n",
    "second_filter_target_list = []\n",
    "target = 'sextortion'\n",
    "# target = 'ransomware'\n",
    "for file in file_list:\n",
    "    if f\"{target}_result.csv\" in file:\n",
    "       first_filter_target_list.append(file)\n",
    "    elif f\"{target}_check_mixing_result\" in file:\n",
    "        second_filter_target_list.append(file)\n",
    "        "
   ]
  },
  {
   "cell_type": "code",
   "execution_count": 65,
   "metadata": {},
   "outputs": [
    {
     "name": "stdout",
     "output_type": "stream",
     "text": [
      "금액 정보 : 1000000 ~ 2000000, 첫번째 필터링 계산 주소 수 : 26, 불법 주소 수 : 0, 일반 주소 수 : 26, 트랜잭션 수 : 28, 믹싱 연결된 주소 수 : 1, 믹싱 불법 주소 수 : 0\n",
      "금액 정보 : 450000 ~ 900000, 첫번째 필터링 계산 주소 수 : 101, 불법 주소 수 : 1, 일반 주소 수 : 100, 트랜잭션 수 : 137, 믹싱 연결된 주소 수 : 20, 믹싱 불법 주소 수 : 0\n",
      "금액 정보 : 450 ~ 1400, 첫번째 필터링 계산 주소 수 : 923, 불법 주소 수 : 81, 일반 주소 수 : 842, 트랜잭션 수 : 1701, 믹싱 연결된 주소 수 : 18, 믹싱 불법 주소 수 : 2\n",
      "금액 정보 : 100000 ~ 300000, 첫번째 필터링 계산 주소 수 : 402, 불법 주소 수 : 2, 일반 주소 수 : 400, 트랜잭션 수 : 658, 믹싱 연결된 주소 수 : 67, 믹싱 불법 주소 수 : 0\n",
      "전체 19432 중 첫번째 필터링 계산 주소 합산 : 1452 (7.472210786331823%) 실제 불법 데이터 : 84 (0.43227665706051877%), 두번째 필터링 게산 주소 합산 : 106, 두번째 실제 불법 데이터 개수 2 (0.01029230135858378%)\n"
     ]
    }
   ],
   "source": [
    "total_number = 19432\n",
    "total_count = 0\n",
    "total_mixing_count = 0\n",
    "total_count_ilegal = 0\n",
    "total_count_second_ilegal = 0\n",
    "for first_file in first_filter_target_list:\n",
    "    name_token = first_file.split(\"_\")\n",
    "    price_start = int(name_token[0])\n",
    "    price_end = int(name_token[2])\n",
    "    \n",
    "    for second_file in second_filter_target_list:\n",
    "        if str(price_start)+\"_to_\"+str(price_end) in second_file:\n",
    "            second_data = pd.read_csv(second_file, header=0)\n",
    "            tx_data = second_data.drop_duplicates('Addr')\n",
    "            count_mixing = len(tx_data)\n",
    "            condition = (tx_data['is_illegal'] == 0)\n",
    "            count_second_ilegal = len(tx_data.loc[condition, ['is_illegal']])\n",
    "                    \n",
    "            data = pd.read_csv(first_file, header=None)\n",
    "            data.columns = ['txid','addrid','addr','tx','is_illegal']\n",
    "            drop_address_data = data.drop_duplicates('addrid')\n",
    "            condition = (drop_address_data['is_illegal'] == 0)\n",
    "            count_ilegal = len(drop_address_data.loc[condition, ['is_illegal']])\n",
    "            condition = (drop_address_data['is_illegal'] == 1)\n",
    "            count_legal = len(drop_address_data.loc[condition, ['is_illegal']])\n",
    "            \n",
    "            \n",
    "            total_count += len(drop_address_data)\n",
    "            total_mixing_count += count_mixing\n",
    "            total_count_ilegal += count_ilegal\n",
    "            total_count_second_ilegal += count_second_ilegal\n",
    "            print(f\"금액 정보 : {price_start} ~ {price_end}, 첫번째 필터링 계산 주소 수 : {len(drop_address_data)}, 불법 주소 수 : {count_ilegal}, 일반 주소 수 : {count_legal}, 트랜잭션 수 : {len(data)}, 믹싱 연결된 주소 수 : {count_mixing}, 믹싱 불법 주소 수 : {count_second_ilegal}\")\n",
    "\n",
    "print(f\"전체 {total_number} 중 첫번째 필터링 계산 주소 합산 : {total_count} ({total_count / total_number * 100}%) 실제 불법 데이터 : {total_count_ilegal} ({total_count_ilegal / total_number * 100}%), 두번째 필터링 게산 주소 합산 : {total_mixing_count}, 두번째 실제 불법 데이터 개수 {total_count_second_ilegal} ({total_count_second_ilegal / total_number * 100}%)\")"
   ]
  },
  {
   "cell_type": "code",
   "execution_count": 67,
   "metadata": {},
   "outputs": [
    {
     "name": "stdout",
     "output_type": "stream",
     "text": [
      "금액 정보 : 450 ~ 1100, 첫번째 필터링 계산 주소 수 : 452, 불법 주소 수 : 67, 일반 주소 수 : 385, 트랜잭션 수 : 909, 믹싱 연결된 주소 수 : 17, 믹싱 불법 주소 수 : 7\n",
      "금액 정보 : 5800 ~ 6200, 첫번째 필터링 계산 주소 수 : 41, 불법 주소 수 : 5, 일반 주소 수 : 36, 트랜잭션 수 : 45, 믹싱 연결된 주소 수 : 2, 믹싱 불법 주소 수 : 1\n",
      "금액 정보 : 2800 ~ 3200, 첫번째 필터링 계산 주소 수 : 84, 불법 주소 수 : 9, 일반 주소 수 : 75, 트랜잭션 수 : 90, 믹싱 연결된 주소 수 : 4, 믹싱 불법 주소 수 : 3\n",
      "금액 정보 : 6800 ~ 7200, 첫번째 필터링 계산 주소 수 : 24, 불법 주소 수 : 2, 일반 주소 수 : 22, 트랜잭션 수 : 25, 믹싱 연결된 주소 수 : 2, 믹싱 불법 주소 수 : 1\n",
      "금액 정보 : 3800 ~ 4200, 첫번째 필터링 계산 주소 수 : 52, 불법 주소 수 : 7, 일반 주소 수 : 45, 트랜잭션 수 : 58, 믹싱 연결된 주소 수 : 2, 믹싱 불법 주소 수 : 1\n",
      "금액 정보 : 4800 ~ 5200, 첫번째 필터링 계산 주소 수 : 40, 불법 주소 수 : 3, 일반 주소 수 : 37, 트랜잭션 수 : 46, 믹싱 연결된 주소 수 : 2, 믹싱 불법 주소 수 : 1\n",
      "금액 정보 : 1800 ~ 2200, 첫번째 필터링 계산 주소 수 : 137, 불법 주소 수 : 18, 일반 주소 수 : 119, 트랜잭션 수 : 169, 믹싱 연결된 주소 수 : 3, 믹싱 불법 주소 수 : 2\n",
      "금액 정보 : 9800 ~ 10200, 첫번째 필터링 계산 주소 수 : 18, 불법 주소 수 : 2, 일반 주소 수 : 16, 트랜잭션 수 : 19, 믹싱 연결된 주소 수 : 2, 믹싱 불법 주소 수 : 1\n",
      "전체 9274 중 첫번째 필터링 계산 주소 합산 : 848 (9.14384300194091%) 실제 불법 데이터 : 113 (1.2184602113435412%), 두번째 필터링 게산 주소 합산 : 34, 두번째 실제 불법 데이터 개수 17 (0.18330817338796634%)\n"
     ]
    }
   ],
   "source": [
    "total_number = 9274\n",
    "total_count = 0\n",
    "total_mixing_count = 0\n",
    "total_count_ilegal = 0\n",
    "total_count_second_ilegal = 0\n",
    "for first_file in first_filter_target_list:\n",
    "    name_token = first_file.split(\"_\")\n",
    "    price_start = int(name_token[0])\n",
    "    price_end = int(name_token[2])\n",
    "    \n",
    "    for second_file in second_filter_target_list:\n",
    "        if str(price_start)+\"_to_\"+str(price_end) in second_file:\n",
    "            second_data = pd.read_csv(second_file, header=0)\n",
    "            tx_data = second_data.drop_duplicates('Addr')\n",
    "            count_mixing = len(tx_data)\n",
    "            condition = (tx_data['is_illegal'] == 0)\n",
    "            count_second_ilegal = len(tx_data.loc[condition, ['is_illegal']])\n",
    "                    \n",
    "            data = pd.read_csv(first_file, header=None)\n",
    "            data.columns = ['txid','addrid','addr','tx','is_illegal']\n",
    "            drop_address_data = data.drop_duplicates('addrid')\n",
    "            condition = (drop_address_data['is_illegal'] == 0)\n",
    "            count_ilegal = len(drop_address_data.loc[condition, ['is_illegal']])\n",
    "            condition = (drop_address_data['is_illegal'] == 1)\n",
    "            count_legal = len(drop_address_data.loc[condition, ['is_illegal']])\n",
    "            \n",
    "            \n",
    "            total_count += len(drop_address_data)   \n",
    "            total_mixing_count += count_mixing\n",
    "            total_count_ilegal += count_ilegal\n",
    "            total_count_second_ilegal += count_second_ilegal\n",
    "            print(f\"금액 정보 : {price_start} ~ {price_end}, 첫번째 필터링 계산 주소 수 : {len(drop_address_data)}, 불법 주소 수 : {count_ilegal}, 일반 주소 수 : {count_legal}, 트랜잭션 수 : {len(data)}, 믹싱 연결된 주소 수 : {count_mixing}, 믹싱 불법 주소 수 : {count_second_ilegal}\")\n",
    "\n",
    "print(f\"전체 {total_number} 중 첫번째 필터링 계산 주소 합산 : {total_count} ({total_count / total_number * 100}%) 실제 불법 데이터 : {total_count_ilegal} ({total_count_ilegal / total_number * 100}%), 두번째 필터링 게산 주소 합산 : {total_mixing_count}, 두번째 실제 불법 데이터 개수 {total_count_second_ilegal} ({total_count_second_ilegal / total_number * 100}%)\")"
   ]
  },
  {
   "cell_type": "code",
   "execution_count": null,
   "metadata": {},
   "outputs": [],
   "source": []
  }
 ],
 "metadata": {
  "kernelspec": {
   "display_name": "Python 3.8.12 ('bitcoin')",
   "language": "python",
   "name": "python3"
  },
  "language_info": {
   "codemirror_mode": {
    "name": "ipython",
    "version": 3
   },
   "file_extension": ".py",
   "mimetype": "text/x-python",
   "name": "python",
   "nbconvert_exporter": "python",
   "pygments_lexer": "ipython3",
   "version": "3.8.12"
  },
  "orig_nbformat": 4,
  "vscode": {
   "interpreter": {
    "hash": "a93570e8df4bfa0c7766a92e33ca1cb64f11a14cdc5b86dbd19ea42b37b82a05"
   }
  }
 },
 "nbformat": 4,
 "nbformat_minor": 2
}
