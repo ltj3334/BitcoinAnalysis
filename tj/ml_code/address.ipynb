{
 "cells": [
  {
   "cell_type": "code",
   "execution_count": 3,
   "metadata": {},
   "outputs": [],
   "source": [
    "import pandas as pd\n",
    "import numpy as np\n",
    "\n",
    "\n",
    "data_0 = pd.read_csv(f'./test0.csv', header = 0, index_col=0)\n",
    "data_0.columns = ['label', 'label_name', 'addr']\n",
    "data_1 = pd.read_csv(f'./test1.csv', header = 0, index_col=0)\n",
    "data_1.columns = ['label', 'label_name', 'addr']\n",
    "data_2 = pd.read_csv(f'./test2.csv', header = 0, index_col=0)\n",
    "data_2.columns = ['label', 'label_name', 'addr']\n",
    "data_3 = pd.read_csv(f'./test3.csv', header = 0, index_col=0)\n",
    "data_3.columns = ['label', 'label_name', 'addr']"
   ]
  },
  {
   "cell_type": "code",
   "execution_count": 5,
   "metadata": {},
   "outputs": [
    {
     "data": {
      "text/plain": [
       "131910"
      ]
     },
     "execution_count": 5,
     "metadata": {},
     "output_type": "execute_result"
    }
   ],
   "source": [
    "total_df = pd.concat([data_0, data_1, data_2, data_3])"
   ]
  },
  {
   "cell_type": "code",
   "execution_count": 7,
   "metadata": {},
   "outputs": [],
   "source": [
    "total_df = total_df.drop_duplicates('addr')\n",
    "total_df.to_csv('darknet_adress.csv',header=True, index=False)"
   ]
  },
  {
   "cell_type": "code",
   "execution_count": null,
   "metadata": {},
   "outputs": [],
   "source": []
  }
 ],
 "metadata": {
  "kernelspec": {
   "display_name": "Python 3.8.12 ('bitcoin')",
   "language": "python",
   "name": "python3"
  },
  "language_info": {
   "codemirror_mode": {
    "name": "ipython",
    "version": 3
   },
   "file_extension": ".py",
   "mimetype": "text/x-python",
   "name": "python",
   "nbconvert_exporter": "python",
   "pygments_lexer": "ipython3",
   "version": "3.8.12"
  },
  "orig_nbformat": 4,
  "vscode": {
   "interpreter": {
    "hash": "a93570e8df4bfa0c7766a92e33ca1cb64f11a14cdc5b86dbd19ea42b37b82a05"
   }
  }
 },
 "nbformat": 4,
 "nbformat_minor": 2
}
