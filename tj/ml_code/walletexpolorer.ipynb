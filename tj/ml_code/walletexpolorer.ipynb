{
 "cells": [
  {
   "cell_type": "code",
   "execution_count": 11,
   "metadata": {},
   "outputs": [],
   "source": [
    "import requests\n",
    "import json\n",
    "import pandas as pd\n",
    "\n",
    "darknet_address_dataframe = pd.read_csv('../address/chainalysis_darknet_address.csv', header = 0)"
   ]
  },
  {
   "cell_type": "code",
   "execution_count": 35,
   "metadata": {},
   "outputs": [
    {
     "name": "stderr",
     "output_type": "stream",
     "text": [
      "  0%|          | 0/7345283 [00:00<?, ?it/s]"
     ]
    },
    {
     "name": "stdout",
     "output_type": "stream",
     "text": [
      "6 22\n"
     ]
    },
    {
     "name": "stderr",
     "output_type": "stream",
     "text": [
      "\n"
     ]
    }
   ],
   "source": [
    "from tqdm import tqdm\n",
    "# 05390109c87b32ee\n",
    "save_list = []\n",
    "for address in tqdm(darknet_address_dataframe.values):\n",
    "    URL = f\"http://www.walletexplorer.com/api/1/wallet-addresses?wallet=05390109c87b32ee&from=0&count=100&caller=panerurkar_p16@ce.vjti.ac.in\"\n",
    "    # URL = f\"http://www.walletexplorer.com/api/1/address-lookup?address={address[0]}&caller=panerurkar_p16@ce.vjti.ac.in\"\n",
    "    url = requests.get(URL)\n",
    "    text = url.text\n",
    "    data = json.loads(text)\n",
    "    # print(data)\n",
    "    print(len(data), len(data['addresses']))\n",
    "    break\n",
    "    # if data['found'] == True:\n",
    "        # save_list.append([address[0], data['wallet_id']])\n"
   ]
  },
  {
   "cell_type": "code",
   "execution_count": null,
   "metadata": {},
   "outputs": [],
   "source": []
  },
  {
   "cell_type": "code",
   "execution_count": null,
   "metadata": {},
   "outputs": [],
   "source": []
  }
 ],
 "metadata": {
  "kernelspec": {
   "display_name": "Python 3.8.12 ('bitcoin')",
   "language": "python",
   "name": "python3"
  },
  "language_info": {
   "codemirror_mode": {
    "name": "ipython",
    "version": 3
   },
   "file_extension": ".py",
   "mimetype": "text/x-python",
   "name": "python",
   "nbconvert_exporter": "python",
   "pygments_lexer": "ipython3",
   "version": "3.8.12"
  },
  "orig_nbformat": 4,
  "vscode": {
   "interpreter": {
    "hash": "a93570e8df4bfa0c7766a92e33ca1cb64f11a14cdc5b86dbd19ea42b37b82a05"
   }
  }
 },
 "nbformat": 4,
 "nbformat_minor": 2
}
