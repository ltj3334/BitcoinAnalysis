{
 "cells": [
  {
   "cell_type": "code",
   "execution_count": 1,
   "metadata": {},
   "outputs": [
    {
     "name": "stdout",
     "output_type": "stream",
     "text": [
      "33.333333333333336 52.49338582674541\n"
     ]
    },
    {
     "data": {
      "text/plain": [
       "array([10, 20, 70])"
      ]
     },
     "execution_count": 1,
     "metadata": {},
     "output_type": "execute_result"
    }
   ],
   "source": [
    "from scipy.stats import moment, describe\n",
    "import numpy as np \n",
    "a = np.array([10, 20, 70])\n",
    "std = np.std(a) * 2\n",
    "print(a.mean(), std)\n",
    "result = a[np.where(np.logical_and(a>(a.mean() - std),a<(a.mean()+std)))]\n",
    "result\n"
   ]
  },
  {
   "cell_type": "markdown",
   "metadata": {},
   "source": []
  },
  {
   "cell_type": "code",
   "execution_count": 2,
   "metadata": {},
   "outputs": [
    {
     "name": "stdout",
     "output_type": "stream",
     "text": [
      "[[1, 4], [2, 5], [3, 6]]\n"
     ]
    }
   ],
   "source": [
    "from collections import defaultdict\n",
    "import pandas as pd\n",
    "\n",
    "test_dict = defaultdict(list)\n",
    "\n",
    "test_dict[3] = [1, 2, 3]\n",
    "test_dict[4] = [4,5,6]\n",
    "\n",
    "test_df = pd.DataFrame(test_dict)\n",
    "\n",
    "print(test_df.values.tolist())"
   ]
  },
  {
   "cell_type": "code",
   "execution_count": 3,
   "metadata": {},
   "outputs": [
    {
     "name": "stdout",
     "output_type": "stream",
     "text": [
      "[1, 2, 3]\n"
     ]
    }
   ],
   "source": [
    "a = [3, 2, 1]\n",
    "a.sort()\n",
    "print(a)"
   ]
  },
  {
   "cell_type": "code",
   "execution_count": 7,
   "metadata": {},
   "outputs": [
    {
     "name": "stdout",
     "output_type": "stream",
     "text": [
      "220729_600_to_700_dollar_chainalysis_ransomware\n"
     ]
    }
   ],
   "source": [
    "\n",
    "s = \"220729_600_to_700_dollar_chainalysis_ransomware_result.csv\"\n",
    "\n",
    "print(s[:-11])"
   ]
  },
  {
   "cell_type": "code",
   "execution_count": null,
   "metadata": {},
   "outputs": [],
   "source": []
  }
 ],
 "metadata": {
  "kernelspec": {
   "display_name": "Python 3.8.12 ('bitcoin')",
   "language": "python",
   "name": "python3"
  },
  "language_info": {
   "codemirror_mode": {
    "name": "ipython",
    "version": 3
   },
   "file_extension": ".py",
   "mimetype": "text/x-python",
   "name": "python",
   "nbconvert_exporter": "python",
   "pygments_lexer": "ipython3",
   "version": "3.8.12"
  },
  "orig_nbformat": 4,
  "vscode": {
   "interpreter": {
    "hash": "a93570e8df4bfa0c7766a92e33ca1cb64f11a14cdc5b86dbd19ea42b37b82a05"
   }
  }
 },
 "nbformat": 4,
 "nbformat_minor": 2
}
