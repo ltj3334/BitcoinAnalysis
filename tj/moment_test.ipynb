{
 "cells": [
  {
   "cell_type": "code",
   "execution_count": 19,
   "metadata": {},
   "outputs": [],
   "source": [
    "import pandas as pd \n",
    "import numpy as np\n",
    "\n",
    "a = np.array([1,3,5,3,1])\n",
    "b = np.array([3,4,5,6,7])\n",
    "c = np.array([1,3,5,7,9])\n",
    "d = np.array([-5,0,5,10,15])"
   ]
  },
  {
   "cell_type": "code",
   "execution_count": 20,
   "metadata": {},
   "outputs": [
    {
     "name": "stdout",
     "output_type": "stream",
     "text": [
      "0 1.0 1.0 1.0 1.0\n",
      "1 0.0 0.0 0.0 0.0\n",
      "2 2.24 2.0 8.0 50.0\n",
      "3 1.1519999999999995 0.0 0.0 0.0\n",
      "4 9.267199999999999 6.8 108.8 4250.0\n"
     ]
    }
   ],
   "source": [
    "from scipy.stats import moment\n",
    "\n",
    "for i in range(5):\n",
    "    print(i, moment(a, i), moment(b,i), moment(c,i), moment(d,i))"
   ]
  },
  {
   "cell_type": "code",
   "execution_count": 21,
   "metadata": {},
   "outputs": [
    {
     "name": "stdout",
     "output_type": "stream",
     "text": [
      "2.6\n",
      "2.8000000000000003\n",
      "0.3436215967445454\n",
      "-1.1530612244897964\n"
     ]
    }
   ],
   "source": [
    "from scipy.stats import describe\n",
    "\n",
    "moments = describe(a)\n",
    "print(moments.mean)\n",
    "print(moments.variance)\n",
    "print(moments.skewness)\n",
    "print(moments.kurtosis)"
   ]
  },
  {
   "cell_type": "code",
   "execution_count": null,
   "metadata": {},
   "outputs": [],
   "source": []
  }
 ],
 "metadata": {
  "kernelspec": {
   "display_name": "Python 3.8.13 ('bitcoin')",
   "language": "python",
   "name": "python3"
  },
  "language_info": {
   "codemirror_mode": {
    "name": "ipython",
    "version": 3
   },
   "file_extension": ".py",
   "mimetype": "text/x-python",
   "name": "python",
   "nbconvert_exporter": "python",
   "pygments_lexer": "ipython3",
   "version": "3.8.13"
  },
  "orig_nbformat": 4,
  "vscode": {
   "interpreter": {
    "hash": "35b483820ff0e94b7ce06b8cfdc030573e78a9161928a0028e5a5e8e4accd6b5"
   }
  }
 },
 "nbformat": 4,
 "nbformat_minor": 2
}
