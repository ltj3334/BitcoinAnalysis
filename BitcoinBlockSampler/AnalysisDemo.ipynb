{
 "cells": [
  {
   "cell_type": "markdown",
   "id": "09f90a8b",
   "metadata": {},
   "source": [
    "## 태그 데이터 삽입"
   ]
  },
  {
   "cell_type": "code",
   "execution_count": null,
   "id": "9fd895bd",
   "metadata": {},
   "outputs": [],
   "source": [
    "import csv\n",
    "import sqlite3"
   ]
  },
  {
   "cell_type": "code",
   "execution_count": null,
   "id": "0f212c59",
   "metadata": {},
   "outputs": [],
   "source": [
    "indexpath = 'dbv3-index.db'\n",
    "corepath = 'dbv3-core.db'\n",
    "dbpath = 'dbv3-service.db'\n",
    "conn = sqlite3.connect(dbpath)\n",
    "cur = conn.cursor()\n",
    "cur.execute(f'''ATTACH DATABASE '{indexpath}' AS DBINDEX;''')\n",
    "cur.execute(f'''ATTACH DATABASE '{corepath}' AS DBCORE;''')\n",
    "conn.commit()"
   ]
  },
  {
   "cell_type": "code",
   "execution_count": null,
   "id": "c5e6ad40",
   "metadata": {},
   "outputs": [],
   "source": [
    "tagpath = 'data/address_tags_210525.csv'\n",
    "\n",
    "with open(tagpath, 'r') as f:\n",
    "    reader = csv.DictReader(f)\n",
    "    for row in reader:\n",
    "        cur.execute('''SELECT id FROM DBINDEX.AddrID\n",
    "                       WHERE DBINDEX.AddrID.addr = ?;''', (row['Address'],))\n",
    "        addrid = cur.fetchone()[0]\n",
    "\n",
    "        cur.execute('''INSERT OR IGNORE INTO AddrTagID (tag)\n",
    "                       VALUES (?);''', (Row['Tag'],))\n",
    "        conn.commit()\n",
    "        cur.execute('''SELECT id FROM AddrTagID\n",
    "                       WHERE AddrTagID.tag = ?;''', (row['Tag'],))\n",
    "        tagid = cur.fetchone()[0]\n",
    "\n",
    "        cur.execute('''INSERT OR IGNORE INTO AddrTag (addr, tag)\n",
    "                       VALUES (?, ?);''', (addrid, tagid))\n",
    "        conn.commit()"
   ]
  },
  {
   "cell_type": "code",
   "execution_count": null,
   "id": "31e2c22c",
   "metadata": {},
   "outputs": [],
   "source": [
    "conn.close()"
   ]
  },
  {
   "cell_type": "markdown",
   "id": "9737f7f0",
   "metadata": {},
   "source": [
    "## 주소 특징 추출"
   ]
  },
  {
   "cell_type": "code",
   "execution_count": null,
   "id": "013519f9",
   "metadata": {},
   "outputs": [],
   "source": [
    "import os\n",
    "import csv\n",
    "import sqlite3\n",
    "import statistics\n",
    "import collections\n",
    "\n",
    "import numpy as np\n",
    "import pandas as pd\n",
    "from scipy.stats import moment\n",
    "\n",
    "import matplotlib.pyplot as plt\n",
    "%matplotlib inline\n",
    "# %matplotlib notebook"
   ]
  },
  {
   "cell_type": "code",
   "execution_count": null,
   "id": "4ce389f9",
   "metadata": {},
   "outputs": [],
   "source": [
    "# Cache DataFrame\n",
    "cachepath = 'cache_address_210525.pickle'\n",
    "if os.path.exists(cachepath):\n",
    "    df = pd.read_pickle(cachepath)\n",
    "else:\n",
    "    df = pd.DataFrame()"
   ]
  },
  {
   "cell_type": "code",
   "execution_count": null,
   "id": "7badcff4",
   "metadata": {},
   "outputs": [],
   "source": [
    "# Connect DB\n",
    "conn = sqlite3.connect(':memory:')\n",
    "cur = conn.cursor()\n",
    "cur.execute('''ATTACH DATABASE '../dbv3-index.db' AS DBINDEX;''')\n",
    "cur.execute('''ATTACH DATABASE '../dbv3-core.db' AS DBCORE;''')\n",
    "cur.execute('''ATTACH DATABASE '../dbv3-util.db' AS DBUTIL;''')\n",
    "cur.execute('''ATTACH DATABASE '../dbv3-service.db' AS DBSERVICE;''')\n",
    "conn.commit()"
   ]
  },
  {
   "cell_type": "code",
   "execution_count": null,
   "id": "4c28f919",
   "metadata": {},
   "outputs": [],
   "source": [
    "# Enqueue all of tagged addresses\n",
    "queue = collections.deque()\n",
    "\n",
    "for row in cur.execute('''SELECT DISTINCT addr FROM AddrTag;'''):\n",
    "    queue.append(row[0])\n",
    "print(f'Ready the tagged queue: {len(queue)}')"
   ]
  },
  {
   "cell_type": "code",
   "execution_count": null,
   "id": "f80d4798",
   "metadata": {},
   "outputs": [],
   "source": [
    "df.to_pickle(cachepath)\n",
    "conn.close()"
   ]
  }
 ],
 "metadata": {
  "kernelspec": {
   "display_name": "Bitcoin",
   "language": "python",
   "name": "bitcoin"
  },
  "language_info": {
   "codemirror_mode": {
    "name": "ipython",
    "version": 3
   },
   "file_extension": ".py",
   "mimetype": "text/x-python",
   "name": "python",
   "nbconvert_exporter": "python",
   "pygments_lexer": "ipython3",
   "version": "3.8.6"
  }
 },
 "nbformat": 4,
 "nbformat_minor": 5
}
