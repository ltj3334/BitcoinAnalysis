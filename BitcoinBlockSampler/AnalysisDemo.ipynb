{
 "cells": [
  {
   "cell_type": "markdown",
   "id": "f005700f",
   "metadata": {},
   "source": [
    "## 태그 데이터 삽입"
   ]
  },
  {
   "cell_type": "code",
   "execution_count": null,
   "id": "f08a9d4c",
   "metadata": {},
   "outputs": [],
   "source": [
    "import csv\n",
    "import sqlite3"
   ]
  },
  {
   "cell_type": "code",
   "execution_count": null,
   "id": "a918f415",
   "metadata": {},
   "outputs": [],
   "source": [
    "indexpath = 'dbv3-index.db'\n",
    "corepath = 'dbv3-core.db'\n",
    "dbpath = 'dbv3-service.db'\n",
    "conn = sqlite3.connect(dbpath)\n",
    "cur = conn.cursor()\n",
    "cur.execute(f'''ATTACH DATABASE '{indexpath}' AS DBINDEX;''')\n",
    "cur.execute(f'''ATTACH DATABASE '{corepath}' AS DBCORE;''')\n",
    "conn.commit()"
   ]
  },
  {
   "cell_type": "code",
   "execution_count": null,
   "id": "6f2e4c30",
   "metadata": {},
   "outputs": [],
   "source": [
    "tagpath = 'data/address_tags_210525.csv'\n",
    "\n",
    "with open(tagpath, 'r') as f:\n",
    "    reader = csv.DictReader(f)\n",
    "    for row in reader:\n",
    "        cur.execute('''SELECT id FROM DBINDEX.AddrID\n",
    "                       WHERE DBINDEX.AddrID.addr = ?;''', (row['Address'],))\n",
    "        addrid = cur.fetchone()[0]\n",
    "\n",
    "        cur.execute('''INSERT OR IGNORE INTO AddrTagID (tag)\n",
    "                       VALUES (?);''', (Row['Tag'],))\n",
    "        conn.commit()\n",
    "        cur.execute('''SELECT id FROM AddrTagID\n",
    "                       WHERE AddrTagID.tag = ?;''', (row['Tag'],))\n",
    "        tagid = cur.fetchone()[0]\n",
    "\n",
    "        cur.execute('''INSERT OR IGNORE INTO AddrTag (addr, tag)\n",
    "                       VALUES (?, ?);''', (addrid, tagid))\n",
    "        conn.commit()"
   ]
  },
  {
   "cell_type": "code",
   "execution_count": null,
   "id": "dbaafb23",
   "metadata": {},
   "outputs": [],
   "source": [
    "conn.close()"
   ]
  },
  {
   "cell_type": "markdown",
   "id": "2ed6ac9c",
   "metadata": {},
   "source": [
    "## 주소 특징 추출"
   ]
  },
  {
   "cell_type": "code",
   "execution_count": null,
   "id": "5c42fd79",
   "metadata": {},
   "outputs": [],
   "source": [
    "import csv\n",
    "import sqlite3\n",
    "import statistics\n",
    "\n",
    "import numpy as np\n",
    "import pandas as pd\n",
    "from scipy.stats import moment\n",
    "\n",
    "import matplotlib.pyplot as plt\n",
    "%matplotlib inline\n",
    "# %matplotlib notebook"
   ]
  }
 ],
 "metadata": {
  "kernelspec": {
   "display_name": "Bitcoin",
   "language": "python",
   "name": "bitcoin"
  },
  "language_info": {
   "codemirror_mode": {
    "name": "ipython",
    "version": 3
   },
   "file_extension": ".py",
   "mimetype": "text/x-python",
   "name": "python",
   "nbconvert_exporter": "python",
   "pygments_lexer": "ipython3",
   "version": "3.8.6"
  }
 },
 "nbformat": 4,
 "nbformat_minor": 5
}
