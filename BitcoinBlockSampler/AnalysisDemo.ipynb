{
 "cells": [
  {
   "cell_type": "markdown",
   "id": "ff5b04f6",
   "metadata": {},
   "source": [
    "## 태그 데이터 삽입"
   ]
  },
  {
   "cell_type": "code",
   "execution_count": null,
   "id": "6e1658d6",
   "metadata": {},
   "outputs": [],
   "source": [
    "import csv\n",
    "import sqlite3"
   ]
  },
  {
   "cell_type": "code",
   "execution_count": null,
   "id": "dabd6b0c",
   "metadata": {},
   "outputs": [],
   "source": [
    "indexpath = 'dbv3-index.db'\n",
    "corepath = 'dbv3-core.db'\n",
    "dbpath = 'dbv3-service.db'\n",
    "conn = sqlite3.connect(dbpath)\n",
    "cur = conn.cursor()\n",
    "cur.execute(f'''ATTACH DATABASE '{indexpath}' AS DBINDEX;''')\n",
    "cur.execute(f'''ATTACH DATABASE '{corepath}' AS DBCORE;''')\n",
    "conn.commit()"
   ]
  },
  {
   "cell_type": "code",
   "execution_count": null,
   "id": "7e17dcd8",
   "metadata": {},
   "outputs": [],
   "source": [
    "tagpath = 'data/address_tags_210525.csv'\n",
    "\n",
    "with open(tagpath, 'r') as f:\n",
    "    reader = csv.DictReader(f)\n",
    "    for row in reader:\n",
    "        cur.execute('''SELECT id FROM DBINDEX.AddrID\n",
    "                       WHERE DBINDEX.AddrID.addr = ?;''', (row['Address'],))\n",
    "        addrid = cur.fetchone()[0]\n",
    "\n",
    "        cur.execute('''INSERT OR IGNORE INTO AddrTagID (tag)\n",
    "                       VALUES (?);''', (Row['Tag'],))\n",
    "        conn.commit()\n",
    "        cur.execute('''SELECT id FROM AddrTagID\n",
    "                       WHERE AddrTagID.tag = ?;''', (row['Tag'],))\n",
    "        tagid = cur.fetchone()[0]\n",
    "\n",
    "        cur.execute('''INSERT OR IGNORE INTO AddrTag (addr, tag)\n",
    "                       VALUES (?, ?);''', (addrid, tagid))\n",
    "        conn.commit()"
   ]
  },
  {
   "cell_type": "code",
   "execution_count": null,
   "id": "e5e6785a",
   "metadata": {},
   "outputs": [],
   "source": [
    "conn.close()"
   ]
  },
  {
   "cell_type": "markdown",
   "id": "824f5fb0",
   "metadata": {},
   "source": [
    "## 주소 특징 추출"
   ]
  },
  {
   "cell_type": "code",
   "execution_count": null,
   "id": "8664d831",
   "metadata": {},
   "outputs": [],
   "source": [
    "import os\n",
    "import csv\n",
    "import sqlite3\n",
    "import statistics\n",
    "import collections\n",
    "\n",
    "import numpy as np\n",
    "import pandas as pd\n",
    "from scipy.stats import moment\n",
    "\n",
    "import matplotlib.pyplot as plt\n",
    "%matplotlib inline\n",
    "# %matplotlib notebook"
   ]
  },
  {
   "cell_type": "code",
   "execution_count": null,
   "id": "2e184282",
   "metadata": {},
   "outputs": [],
   "source": [
    "# Cache DataFrame\n",
    "cachepath = 'cache_address_210525.pickle'\n",
    "if os.path.exists(cachepath):\n",
    "    df = pd.read_pickle(cachepath)\n",
    "else:\n",
    "    df = pd.DataFrame()"
   ]
  },
  {
   "cell_type": "code",
   "execution_count": null,
   "id": "7be446b3",
   "metadata": {},
   "outputs": [],
   "source": [
    "# Connect DB\n",
    "conn = sqlite3.connect(':memory:')\n",
    "cur = conn.cursor()\n",
    "cur.execute('''ATTACH DATABASE './dbv3-index.db' AS DBINDEX;''')\n",
    "cur.execute('''ATTACH DATABASE './dbv3-core.db' AS DBCORE;''')\n",
    "cur.execute('''ATTACH DATABASE './dbv3-util.db' AS DBUTIL;''')\n",
    "cur.execute('''ATTACH DATABASE './dbv3-service.db' AS DBSERVICE;''')\n",
    "conn.commit()"
   ]
  },
  {
   "cell_type": "code",
   "execution_count": null,
   "id": "e7665ae8",
   "metadata": {},
   "outputs": [],
   "source": [
    "# Enqueue all of tagged addresses\n",
    "queue = collections.deque()\n",
    "\n",
    "for row in cur.execute('''SELECT DISTINCT addr FROM DBSERVICE.AddrTag;'''):\n",
    "    queue.append(row[0])\n",
    "print(f'Ready the tagged queue: {len(queue)}')"
   ]
  },
  {
   "cell_type": "code",
   "execution_count": null,
   "id": "a9716a95",
   "metadata": {},
   "outputs": [],
   "source": [
    "# Process feature for addresses\n",
    "while queue:\n",
    "    addr = queue.popleft()\n",
    "    # Tx\n",
    "    \n",
    "    # InTx\n",
    "    \n",
    "    # OutTx\n",
    "    \n",
    "    # BTC\n",
    "    \n",
    "    # InBTC\n",
    "    \n",
    "    # OutBTC\n",
    "    \n",
    "    # Use\n",
    "    \n",
    "    # InUse\n",
    "    \n",
    "    # OutUse\n",
    "    \n",
    "    # Age\n",
    "    \n",
    "    # Agemmmm1~m4s\n",
    "    \n",
    "    # InAgemmmm1~m4s\n",
    "    \n",
    "    # OutAgemmmm1~m4s\n",
    "    \n",
    "    # isP2PKH\n",
    "    # isP2SH\n",
    "    # isBech32\n",
    "    ## P2PKH which begin with the number 1, eg: 1BvBMSEYstWetqTFn5Au4m4GFg7xJaNVN2.\n",
    "    ## P2SH type starting with the number 3, eg: 3J98t1WpEZ73CNmQviecrnyiWrnqRhWNLy.\n",
    "    ## Bech32 type starting with bc1, eg: bc1qar0srrr7xfkvy5l643lydnw9re59gtzzwf5mdq."
   ]
  },
  {
   "cell_type": "code",
   "execution_count": null,
   "id": "f2149144",
   "metadata": {},
   "outputs": [],
   "source": [
    "df.to_pickle(cachepath)\n",
    "conn.close()"
   ]
  }
 ],
 "metadata": {
  "kernelspec": {
   "display_name": "Bitcoin",
   "language": "python",
   "name": "bitcoin"
  },
  "language_info": {
   "codemirror_mode": {
    "name": "ipython",
    "version": 3
   },
   "file_extension": ".py",
   "mimetype": "text/x-python",
   "name": "python",
   "nbconvert_exporter": "python",
   "pygments_lexer": "ipython3",
   "version": "3.8.6"
  }
 },
 "nbformat": 4,
 "nbformat_minor": 5
}
