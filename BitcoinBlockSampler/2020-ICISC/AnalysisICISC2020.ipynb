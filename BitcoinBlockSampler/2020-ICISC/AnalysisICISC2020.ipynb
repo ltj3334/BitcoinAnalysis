{
 "cells": [
  {
   "cell_type": "code",
   "execution_count": 1,
   "metadata": {},
   "outputs": [],
   "source": [
    "import csv\n",
    "\n",
    "import matplotlib.pyplot as plt\n",
    "%matplotlib inline\n",
    "import numpy as np\n",
    "import pandas as pd"
   ]
  },
  {
   "cell_type": "markdown",
   "metadata": {},
   "source": [
    "#### Balance"
   ]
  },
  {
   "cell_type": "code",
   "execution_count": null,
   "metadata": {},
   "outputs": [],
   "source": [
    "balance_df = pd.read_csv('./balance.csv')\n",
    "print(f'Columns name: {balance_df.columns.values}')\n",
    "balance_df = balance_df[balance_df['btc'] != 0]"
   ]
  },
  {
   "cell_type": "code",
   "execution_count": null,
   "metadata": {},
   "outputs": [],
   "source": [
    "balance_stack = list()\n",
    "pivot1 = 0\n",
    "pivot2 = 1\n",
    "for i in range(1, 8):\n",
    "    balance_stack.append(len(balance_df[(pivot1 <= balance_df['btc']) & (balance_df['btc'] < pivot2)]))\n",
    "    pivot1 = pivot2\n",
    "    pivot2 = pivot2 * 10\n",
    "print(balance_stack)"
   ]
  },
  {
   "cell_type": "code",
   "execution_count": null,
   "metadata": {},
   "outputs": [],
   "source": [
    "x = range(0, len(balance_stack))\n",
    "tick_label=['[$10^0$, $10^1$)', '[$10^1$, $10^2$)', \n",
    "            '[$10^2$, $10^3$)', '[$10^3$, $10^4$)', \n",
    "            '[$10^4$, $10^5$)', '[$10^5$, $10^6$)', \n",
    "            '[$10^6$, $10^7$)']\n",
    "fig = plt.figure(figsize=(8*1, 6*1))\n",
    "fig.set_facecolor('white')\n",
    "ax = fig.add_subplot()\n",
    "bars = ax.bar(x, balance_stack, tick_label=tick_label, color='#8EB695', log=True)\n",
    "ax.set_xticklabels(tick_label, rotation=25, fontsize='large')\n",
    "ax.tick_params(axis='y', labelsize='large')\n",
    "ax.set_xlabel('Balance (BTC)', fontsize='x-large')\n",
    "ax.set_ylabel('The number of address', fontsize='x-large')\n",
    "for index, rect in enumerate(bars):\n",
    "    height = rect.get_height()\n",
    "    ax.annotate(f'{format(balance_stack[index])}',\n",
    "                 xy=(rect.get_x()+0.4, height),\n",
    "                 ha='center',\n",
    "                 va='bottom')\n",
    "fig.savefig('balance_hist.png', bbox_inches='tight')"
   ]
  },
  {
   "cell_type": "code",
   "execution_count": null,
   "metadata": {},
   "outputs": [],
   "source": [
    "print(f'Balance by address number')\n",
    "print(balance_df.sort_values(by=['btc', 'cnt'], ascending=False)[:10].to_csv())\n",
    "\n",
    "print(f'Balance 비율 (총합: {sum(balance_df[\"btc\"])})')\n",
    "print(((balance_df.sort_values(by=['btc', 'cnt'], ascending=False)['btc'][:10])/sum(balance_df['btc'])*100).to_csv())"
   ]
  },
  {
   "cell_type": "markdown",
   "metadata": {},
   "source": [
    "### Crytolocker Intra-cluster"
   ]
  },
  {
   "cell_type": "code",
   "execution_count": null,
   "metadata": {},
   "outputs": [],
   "source": [
    "crypto_df = pd.read_csv('./cryptolocker.csv')\n",
    "print(f'Columns name: {crypto_df.columns.values}')"
   ]
  },
  {
   "cell_type": "code",
   "execution_count": null,
   "metadata": {},
   "outputs": [],
   "source": [
    "print(f'입금된 총 금액: {sum(crypto_df.btc)}')\n",
    "print(f'입금된 총 횟수: {len(crypto_df)}')"
   ]
  },
  {
   "cell_type": "code",
   "execution_count": null,
   "metadata": {},
   "outputs": [],
   "source": [
    "import datetime \n",
    "tz_utc = datetime.timezone(datetime.timedelta())\n",
    "\n",
    "def get_time(timestamp):\n",
    "    return datetime.datetime.fromtimestamp(timestamp, tz=tz_utc)\n",
    "\n",
    "def get_year(row):\n",
    "    return datetime.datetime.fromtimestamp(row.unixtime, tz=tz_utc).year\n",
    "\n",
    "def get_month(row):\n",
    "    return datetime.datetime.fromtimestamp(row.unixtime, tz=tz_utc).month\n",
    "\n",
    "def get_day(row):\n",
    "    return datetime.datetime.fromtimestamp(row.unixtime, tz=tz_utc).day"
   ]
  },
  {
   "cell_type": "code",
   "execution_count": null,
   "metadata": {},
   "outputs": [],
   "source": [
    "crypto_df['year'] = crypto_df.apply(get_year, axis=1)\n",
    "crypto_df['month'] = crypto_df.apply(get_month, axis=1)\n",
    "crypto_df['day'] = crypto_df.apply(get_day, axis=1)"
   ]
  },
  {
   "cell_type": "code",
   "execution_count": null,
   "metadata": {},
   "outputs": [],
   "source": [
    "crypto_grp = crypto_df.groupby(by=['year', 'month'])\n",
    "print(max(crypto_grp.sum().btc))\n",
    "print(crypto_grp.sum().btc)"
   ]
  },
  {
   "cell_type": "code",
   "execution_count": null,
   "metadata": {},
   "outputs": [],
   "source": [
    "crypto_grp = crypto_df.groupby(by=['year', 'month', 'day'])"
   ]
  },
  {
   "cell_type": "code",
   "execution_count": null,
   "metadata": {},
   "outputs": [],
   "source": [
    "x = list() # datatime\n",
    "y = list() # txcount\n",
    "z = list() # btcsum\n",
    "date = datetime.datetime(year=2013, month=9, day=1)\n",
    "while True:\n",
    "    if date > datetime.datetime(year=2014, month=2, day=28):\n",
    "        break\n",
    "    year = date.year\n",
    "    month = date.month\n",
    "    day = date.day\n",
    "    dt = (year, month, day)\n",
    "    if dt in crypto_grp.sum().index:\n",
    "        txcnt = crypto_grp.count().loc[year, month, day].txid\n",
    "        btcsum = crypto_grp.sum().loc[year, month, day].btc\n",
    "    else:\n",
    "        txcnt = 0\n",
    "        btcsum = 0\n",
    "    x.append(date)\n",
    "    y.append(txcnt)\n",
    "    z.append(btcsum)\n",
    "    date = date + datetime.timedelta(days=1)"
   ]
  },
  {
   "cell_type": "code",
   "execution_count": null,
   "metadata": {},
   "outputs": [],
   "source": [
    "fig = plt.figure(figsize=(8*1, 6*1))\n",
    "fig.set_facecolor('white')\n",
    "ax = fig.add_subplot()\n",
    "ax.scatter(x, y, [x if x != 0 else 0 for x in z], facecolors='none', edgecolors='salmon', linewidths=3)\n",
    "ax.scatter(x, y, [x//2 if x != 0 else 0 for x in z], c='salmon', marker='+')\n",
    "ax.tick_params(axis='x', labelsize='large', rotation=15)\n",
    "ax.tick_params(axis='y', labelsize='large')\n",
    "ax.set_xlabel('Date', fontsize='x-large')\n",
    "ax.set_ylabel('The number of transactions', fontsize='x-large')\n",
    "fig.savefig('cryptolocker.png', bbox_inches='tight')"
   ]
  },
  {
   "cell_type": "markdown",
   "metadata": {},
   "source": [
    "### Korbit intra-cluster"
   ]
  },
  {
   "cell_type": "code",
   "execution_count": null,
   "metadata": {},
   "outputs": [],
   "source": [
    "korbit_df = pd.read_csv('./korbit_degree.csv')\n",
    "print(f'Columns name: {korbit_df.columns.values}')"
   ]
  },
  {
   "cell_type": "code",
   "execution_count": null,
   "metadata": {},
   "outputs": [],
   "source": [
    "korbit_df['degree'] = korbit_df.indegree + korbit_df.outdegree\n",
    "korbit_df['value'] = korbit_df.income + korbit_df.outcome"
   ]
  },
  {
   "cell_type": "code",
   "execution_count": null,
   "metadata": {},
   "outputs": [],
   "source": [
    "print(korbit_df.sort_values(by=['degree', 'value'], ascending=False)[:13].to_csv())"
   ]
  },
  {
   "cell_type": "code",
   "execution_count": null,
   "metadata": {},
   "outputs": [],
   "source": [
    "fig = plt.figure(figsize=(8*1, 6*1))\n",
    "fig.set_facecolor('white')\n",
    "ax = fig.add_subplot()\n",
    "ax.hist(korbit_df.degree, max(korbit_df.degree), density=True, histtype='step', cumulative=True, \n",
    "        color='orange')\n",
    "ax.set_xscale('log')\n",
    "ax.tick_params(axis='x', labelsize='large')\n",
    "ax.tick_params(axis='y', labelsize='large')\n",
    "ax.set_xlabel('Degree', fontsize='x-large')\n",
    "ax.set_ylabel('CDF', fontsize='x-large')\n",
    "fig.savefig('korbit_degree.png', bbox_inches='tight')"
   ]
  },
  {
   "cell_type": "code",
   "execution_count": null,
   "metadata": {},
   "outputs": [],
   "source": [
    "print(len(korbit_df))\n",
    "print(len(korbit_df[korbit_df.degree >= 1000]))"
   ]
  },
  {
   "cell_type": "markdown",
   "metadata": {},
   "source": [
    "#### Silkroad pagerank"
   ]
  },
  {
   "cell_type": "code",
   "execution_count": null,
   "metadata": {},
   "outputs": [],
   "source": [
    "silkroad_df = pd.read_csv('./silkroad_graph.csv')\n",
    "print(f'Columns name: {silkroad_df.columns.values}')"
   ]
  },
  {
   "cell_type": "code",
   "execution_count": 5,
   "metadata": {},
   "outputs": [],
   "source": [
    "import igraph"
   ]
  },
  {
   "cell_type": "code",
   "execution_count": null,
   "metadata": {},
   "outputs": [],
   "source": [
    "vertices = set()\n",
    "edges = list()\n",
    "weights = list()\n",
    "for index, row in silkroad_df.iterrows():\n",
    "    if row['src'] not in vertices:\n",
    "        vertices.add(str(row['src']))\n",
    "    if row['dst'] not in vertices:\n",
    "        vertices.add(str(row['dst']))\n",
    "    edges.append((str(row['src']), str(row['dst'])))\n",
    "    weights.append((row['btc']))\n",
    "vertices = list(vertices)\n",
    "print(f'노드: {len(vertices)}')\n",
    "print(f'에지: {len(edges)}')"
   ]
  },
  {
   "cell_type": "code",
   "execution_count": null,
   "metadata": {},
   "outputs": [],
   "source": [
    "g = igraph.Graph(directed=True)\n",
    "g.add_vertices(vertices)\n",
    "g.add_edges([(x[0], x[1]) for x in edges])\n",
    "g.es['weight'] = weights\n",
    "g.write_pickle(f'silkroad.igraph')"
   ]
  },
  {
   "cell_type": "code",
   "execution_count": null,
   "metadata": {},
   "outputs": [],
   "source": [
    "pagerank = g.pagerank(weights=weights)\n",
    "max(pagerank)"
   ]
  },
  {
   "cell_type": "code",
   "execution_count": null,
   "metadata": {},
   "outputs": [],
   "source": [
    "silkroad_pr = pd.DataFrame({'node': vertices, 'pagerank': pagerank})"
   ]
  },
  {
   "cell_type": "code",
   "execution_count": null,
   "metadata": {},
   "outputs": [],
   "source": [
    "print(silkroad_pr.sort_values(by=['pagerank', 'node'], ascending=False)[:10].to_csv())"
   ]
  },
  {
   "cell_type": "code",
   "execution_count": null,
   "metadata": {},
   "outputs": [],
   "source": [
    "silkt1_in = pd.read_csv('./silk_top1_income.csv')\n",
    "silkt1_out = pd.read_csv('./silk_top1_outcome.csv')\n",
    "silkt1_df = pd.concat([silkt1_in, silkt1_out])\n",
    "silkt1_df = silkt1_df.sort_values(by=['unixtime', 'value'])\n",
    "silkt2_in = pd.read_csv('./silk_top2_income.csv')\n",
    "silkt2_out = pd.read_csv('./silk_top2_outcome.csv')\n",
    "silkt2_df = pd.concat([silkt2_in, silkt2_out])\n",
    "silkt2_df = silkt2_df.sort_values(by=['unixtime', 'value'])\n",
    "silkt3_in = pd.read_csv('./silk_top3_income.csv')\n",
    "silkt3_out = pd.read_csv('./silk_top3_outcome.csv')\n",
    "silkt3_df = pd.concat([silkt3_in, silkt3_out])\n",
    "silkt3_df = silkt3_df.sort_values(by=['unixtime', 'value'])"
   ]
  },
  {
   "cell_type": "code",
   "execution_count": null,
   "metadata": {},
   "outputs": [],
   "source": [
    "silkt1_df['year'] = silkt1_df.apply(get_year, axis=1)\n",
    "silkt1_df['month'] = silkt1_df.apply(get_month, axis=1)\n",
    "silkt1_df['day'] = silkt1_df.apply(get_day, axis=1)\n",
    "print(f'Columns name: {silkt1_df.columns.values}')\n",
    "silkt2_df['year'] = silkt2_df.apply(get_year, axis=1)\n",
    "silkt2_df['month'] = silkt2_df.apply(get_month, axis=1)\n",
    "silkt2_df['day'] = silkt2_df.apply(get_day, axis=1)\n",
    "print(f'Columns name: {silkt2_df.columns.values}')\n",
    "silkt3_df['year'] = silkt3_df.apply(get_year, axis=1)\n",
    "silkt3_df['month'] = silkt3_df.apply(get_month, axis=1)\n",
    "silkt3_df['day'] = silkt3_df.apply(get_day, axis=1)\n",
    "print(f'Columns name: {silkt3_df.columns.values}')"
   ]
  },
  {
   "cell_type": "code",
   "execution_count": null,
   "metadata": {},
   "outputs": [],
   "source": [
    "silkt1_grp = silkt1_df.groupby(by=['year', 'month', 'day'])\n",
    "silkt2_grp = silkt2_df.groupby(by=['year', 'month', 'day'])\n",
    "silkt3_grp = silkt3_df.groupby(by=['year', 'month', 'day'])"
   ]
  },
  {
   "cell_type": "code",
   "execution_count": null,
   "metadata": {},
   "outputs": [],
   "source": [
    "max(max(silkt1_df.unixtime),\n",
    "    max(silkt2_df.unixtime),\n",
    "    max(silkt3_df.unixtime))"
   ]
  },
  {
   "cell_type": "code",
   "execution_count": null,
   "metadata": {},
   "outputs": [],
   "source": [
    "x = list() # datatime\n",
    "y1 = list() # txcount\n",
    "z1 = list() # btcsum\n",
    "y2 = list() # txcount\n",
    "z2 = list() # btcsum\n",
    "y3 = list() # txcount\n",
    "z3 = list() # btcsum\n",
    "date = datetime.datetime(year=2012, month=1, day=1)\n",
    "t1_bal = 0\n",
    "t2_bal = 0\n",
    "t3_bal = 0\n",
    "while True:\n",
    "    if date > datetime.datetime(year=2020, month=8, day=20):\n",
    "        break\n",
    "    \n",
    "    year = date.year\n",
    "    month = date.month\n",
    "    day = date.day\n",
    "    dt = (year, month, day)\n",
    "    x.append(date)\n",
    "    \n",
    "    if dt in silkt1_grp.sum().index:\n",
    "        txcnt = silkt1_grp.count().loc[year, month, day].value\n",
    "        btcsum = silkt1_grp.sum().loc[year, month, day].value\n",
    "    else:\n",
    "        txcnt = 0\n",
    "        btcsum = 0\n",
    "    t1_bal = t1_bal + btcsum\n",
    "    y1.append(txcnt)\n",
    "    z1.append(t1_bal)\n",
    "    \n",
    "    if dt in silkt2_grp.sum().index:\n",
    "        txcnt = silkt2_grp.count().loc[year, month, day].value\n",
    "        btcsum = silkt2_grp.sum().loc[year, month, day].value\n",
    "    else:\n",
    "        txcnt = 0\n",
    "        btcsum = 0\n",
    "    t2_bal = t2_bal + btcsum\n",
    "    y2.append(txcnt)\n",
    "    z2.append(t2_bal)\n",
    "    \n",
    "    if dt in silkt3_grp.sum().index:\n",
    "        txcnt = silkt3_grp.count().loc[year, month, day].value\n",
    "        btcsum = silkt3_grp.sum().loc[year, month, day].value\n",
    "    else:\n",
    "        txcnt = 0\n",
    "        btcsum = 0\n",
    "    t3_bal = t3_bal + btcsum\n",
    "    y3.append(txcnt)\n",
    "    z3.append(t3_bal)\n",
    "    \n",
    "    date = date + datetime.timedelta(days=1)"
   ]
  },
  {
   "cell_type": "code",
   "execution_count": null,
   "metadata": {},
   "outputs": [],
   "source": [
    "silkt3_grp.sum().loc[2012, 10, 5].value"
   ]
  },
  {
   "cell_type": "code",
   "execution_count": null,
   "metadata": {},
   "outputs": [],
   "source": [
    "sum(silkt1_df.value[silkt1_df.value < 0])"
   ]
  },
  {
   "cell_type": "code",
   "execution_count": null,
   "metadata": {},
   "outputs": [],
   "source": [
    "sum(silkt1_df.value[silkt1_df.value > 0])"
   ]
  },
  {
   "cell_type": "code",
   "execution_count": null,
   "metadata": {},
   "outputs": [],
   "source": [
    "fig = plt.figure(figsize=(8*1, 8*1))\n",
    "fig.set_facecolor('white')\n",
    "ax = fig.add_subplot()\n",
    "ax.plot(x, z1, label='Top 1) 1F1tAaz5x1HUXrCNLbtMDqcw6o5GNn4xqX')\n",
    "ax.plot(x, z2, label='Top 2) 1DkyBEKt5S2GDtv7aQw6rQepAvnsRyHoYM')\n",
    "ax.plot(x, z3, label='Top 3) 1NnqM24fFeAGf7NWxmhhFkQAciPqeWo3L')\n",
    "ax.set_yscale('log')\n",
    "ax.set_xlim((datetime.datetime(year=2011, month=12, day=1), datetime.datetime(year=2020, month=8, day=20)))\n",
    "ax.tick_params(axis='x', labelsize='large', rotation=15)\n",
    "ax.tick_params(axis='y', labelsize='large')\n",
    "ax.set_xlabel('Date', fontsize='x-large')\n",
    "ax.set_ylabel('Balance (BTC)', fontsize='x-large')\n",
    "ax.legend()\n",
    "fig.savefig('silkroad.png', bbox_inches='tight')"
   ]
  },
  {
   "cell_type": "markdown",
   "metadata": {},
   "source": [
    "### UPbit"
   ]
  },
  {
   "cell_type": "code",
   "execution_count": 2,
   "metadata": {},
   "outputs": [
    {
     "name": "stdout",
     "output_type": "stream",
     "text": [
      "Columns name: ['saddr' 'daddr' 'btc' 'saddr_id' 'daddr_id' 'cnt']\n"
     ]
    }
   ],
   "source": [
    "upbit_df = pd.read_csv('./upbit.csv')\n",
    "print(f'Columns name: {upbit_df.columns.values}')"
   ]
  },
  {
   "cell_type": "code",
   "execution_count": null,
   "metadata": {},
   "outputs": [],
   "source": [
    "vertices = set()\n",
    "edges = list()\n",
    "weights = list()\n",
    "for index, row in upbit_df.iterrows():\n",
    "    if row['saddr'] not in vertices:\n",
    "        vertices.add(row['saddr'])\n",
    "    if row['daddr'] not in vertices:\n",
    "        vertices.add(row['daddr'])\n",
    "    edges.append((row['saddr'], row['daddr']))\n",
    "    weights.append((row['cnt']))\n",
    "vertices = list(vertices)\n",
    "print(f'노드: {len(vertices)}')\n",
    "print(f'에지: {len(edges)}')"
   ]
  },
  {
   "cell_type": "code",
   "execution_count": null,
   "metadata": {},
   "outputs": [],
   "source": [
    "g = igraph.Graph()\n",
    "g.add_vertices(vertices)\n",
    "g.add_edges([(x[0], x[1]) for x in edges])\n",
    "g.es['weight'] = weights\n",
    "g.write_pickle(f'upbit.igraph')"
   ]
  },
  {
   "cell_type": "code",
   "execution_count": 6,
   "metadata": {},
   "outputs": [],
   "source": [
    "g = igraph.Graph.Read_Pickle('upbit.igraph')"
   ]
  },
  {
   "cell_type": "code",
   "execution_count": 7,
   "metadata": {},
   "outputs": [],
   "source": [
    "partition = g.community_leiden(objective_function='modularity')"
   ]
  },
  {
   "cell_type": "code",
   "execution_count": null,
   "metadata": {},
   "outputs": [],
   "source": [
    "import collections"
   ]
  },
  {
   "cell_type": "code",
   "execution_count": null,
   "metadata": {},
   "outputs": [],
   "source": [
    "counter = collections.Counter(partition.membership)"
   ]
  },
  {
   "cell_type": "code",
   "execution_count": null,
   "metadata": {},
   "outputs": [],
   "source": [
    "counter.most_common(10)"
   ]
  },
  {
   "cell_type": "code",
   "execution_count": null,
   "metadata": {},
   "outputs": [],
   "source": [
    "fig = plt.figure(figsize=(8*1, 6*1))\n",
    "fig.set_facecolor('white')\n",
    "ax = fig.add_subplot()\n",
    "ax.hist(counter.values(), max(counter.values()), density=True, histtype='step', cumulative=True, \n",
    "        color='indigo')\n",
    "ax.set_xscale('log')\n",
    "ax.tick_params(axis='x', labelsize='large')\n",
    "ax.tick_params(axis='y', labelsize='large')\n",
    "ax.set_xlabel('Community size', fontsize='x-large')\n",
    "ax.set_ylabel('CDF', fontsize='x-large')\n",
    "fig.savefig('upbit_community.png', bbox_inches='tight')"
   ]
  },
  {
   "cell_type": "code",
   "execution_count": null,
   "metadata": {},
   "outputs": [],
   "source": [
    "igraph.plot(partition, \"t.png\", mark_groups=True)"
   ]
  },
  {
   "cell_type": "code",
   "execution_count": null,
   "metadata": {},
   "outputs": [],
   "source": [
    "import random\n",
    "\n",
    "N = 10\n",
    "\n",
    "clusters = partition\n",
    "member = clusters.membership\n",
    "new_cmap = ['#'+''.join([random.choice('0123456789abcdef') for x in range(6)]) for z in range(len(clusters))]\n",
    "\n",
    "vcolors = {v: new_cmap[i] for i, c in enumerate(clusters) for v in c}\n",
    "g.vs[\"color\"] = [vcolors[v] for v in g.vs.indices]\n",
    "\n",
    "ecolors = {e.index: new_cmap[member[e.tuple[0]]] if member[e.tuple[0]]==member[e.tuple[1]] else \"#e0e0e0\" for e in g.es}\n",
    "eweights = {e.index: (3*g.vcount()) if member[e.tuple[0]]==member[e.tuple[1]] else 0.1 for e in g.es}\n",
    "g.es[\"weight\"] = [eweights[e.index] for e in g.es]\n",
    "g.es[\"color\"] = [ecolors[e] for e in g.es.indices]\n",
    "\n",
    "visual_style = dict()\n",
    "visual_style[\"layout\"] = g.layout_fruchterman_reingold(weights=g.es[\"weight\"])\n",
    "igraph.plot(g, \"graph.pdf\", **visual_style)"
   ]
  },
  {
   "cell_type": "code",
   "execution_count": null,
   "metadata": {},
   "outputs": [],
   "source": [
    "for color in plt.cm.rainbow:\n",
    "    print(color)"
   ]
  },
  {
   "cell_type": "code",
   "execution_count": null,
   "metadata": {},
   "outputs": [],
   "source": [
    "['#'+''.join([random.choice('0123456789abcdef') for x in range(6)]) for z in range(10)]"
   ]
  },
  {
   "cell_type": "code",
   "execution_count": null,
   "metadata": {},
   "outputs": [],
   "source": []
  }
 ],
 "metadata": {
  "kernelspec": {
   "display_name": "Bitcoin",
   "language": "python",
   "name": "bitcoin"
  },
  "language_info": {
   "codemirror_mode": {
    "name": "ipython",
    "version": 3
   },
   "file_extension": ".py",
   "mimetype": "text/x-python",
   "name": "python",
   "nbconvert_exporter": "python",
   "pygments_lexer": "ipython3",
   "version": "3.8.6"
  }
 },
 "nbformat": 4,
 "nbformat_minor": 4
}
