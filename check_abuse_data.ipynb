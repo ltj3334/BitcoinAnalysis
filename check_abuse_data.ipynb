{
 "cells": [
  {
   "cell_type": "code",
   "execution_count": 62,
   "metadata": {},
   "outputs": [],
   "source": [
    "import pandas as pd\n",
    "\n",
    "raw_data = pd.read_csv('abuse_address.csv', header=None)\n",
    "raw_data.columns = ['address', 'category', 'price']\n",
    "other_data = raw_data[raw_data['category'] == 'other']\n"
   ]
  },
  {
   "cell_type": "code",
   "execution_count": 63,
   "metadata": {},
   "outputs": [
    {
     "name": "stdout",
     "output_type": "stream",
     "text": [
      "['1Pau7aAFNZ5rvogxMnfP37zDAzoeipCqPP', '1Lughwk11SAsz54wZJ3bpGbNqGfVanMWzk', '1DPiHdQpcYt2XfbWiXA2D4FjevQSiA77tr', '1ATnJsRDZgtdR362baqLDqQXxX2JUkWhXA', '1QCbBFSL6LLZPW7Jcpzyvr51sQL4JuoBwu', '19hu2tmdUWxMoUW4nnjJMa8mSskks6g2xf', '1HoRCLh8UboB7ahNfTpeV8Nh9G11zyUqr3', '12RVRRsdS6UyGKssKUA4VKpwfZsJvof3PG', '1KE8YrfXJmUuxekkdZ4PUY7m8HQ3k6JQob', '1FDav1ni9QxRZ4e6qxmFoLQ7UDMcsgrhoa']\n"
     ]
    }
   ],
   "source": [
    "other_address = other_data['address'].values.tolist()\n",
    "print(other_address[0:10])"
   ]
  },
  {
   "cell_type": "code",
   "execution_count": 65,
   "metadata": {},
   "outputs": [],
   "source": [
    "import requests\n",
    "import json\n",
    "# abuse_type_id \n",
    "# 1 = ransomware\n",
    "# 4 = black_mail\n",
    "# 3 = bitcoin tumbler\n",
    "# 99 = other\n",
    "API_TOKEN = 'BiC5vBiCoip36eg20LysYyZJVMrlnbjxkPSULiD7'\n",
    "\n",
    "save_id = []\n",
    "\n",
    "for ADDRESS in other_address:\n",
    "    url = f\"https://www.bitcoinabuse.com/api/reports/check?address={ADDRESS}&api_token={API_TOKEN}\"\n",
    "    data = requests.get(url)\n",
    "\n",
    "\n",
    "    if data.status_code == 200:\n",
    "        jsonData = data.json()\n",
    "        for i in range(len(jsonData['recent'])):\n",
    "            save_id.append([ADDRESS, jsonData['recent'][i]['abuse_type_id']])"
   ]
  },
  {
   "cell_type": "code",
   "execution_count": 66,
   "metadata": {},
   "outputs": [
    {
     "ename": "TypeError",
     "evalue": "unhashable type: 'list'",
     "output_type": "error",
     "traceback": [
      "\u001b[0;31m---------------------------------------------------------------------------\u001b[0m",
      "\u001b[0;31mTypeError\u001b[0m                                 Traceback (most recent call last)",
      "\u001b[1;32m/home/tj/BitcoinAnalysis/check_abuse_data.ipynb 셀 4\u001b[0m in \u001b[0;36m<cell line: 3>\u001b[0;34m()\u001b[0m\n\u001b[1;32m      <a href='vscode-notebook-cell://ssh-remote%2B168.188.129.207/home/tj/BitcoinAnalysis/check_abuse_data.ipynb#ch0000001vscode-remote?line=0'>1</a>\u001b[0m \u001b[39mfrom\u001b[39;00m \u001b[39mcollections\u001b[39;00m \u001b[39mimport\u001b[39;00m Counter\n\u001b[0;32m----> <a href='vscode-notebook-cell://ssh-remote%2B168.188.129.207/home/tj/BitcoinAnalysis/check_abuse_data.ipynb#ch0000001vscode-remote?line=2'>3</a>\u001b[0m results \u001b[39m=\u001b[39m Counter(save_id)\n\u001b[1;32m      <a href='vscode-notebook-cell://ssh-remote%2B168.188.129.207/home/tj/BitcoinAnalysis/check_abuse_data.ipynb#ch0000001vscode-remote?line=3'>4</a>\u001b[0m \u001b[39mprint\u001b[39m(results)\n",
      "File \u001b[0;32m~/anaconda3/envs/bitcoin/lib/python3.8/collections/__init__.py:552\u001b[0m, in \u001b[0;36mCounter.__init__\u001b[0;34m(self, iterable, **kwds)\u001b[0m\n\u001b[1;32m    541\u001b[0m \u001b[39m'''Create a new, empty Counter object.  And if given, count elements\u001b[39;00m\n\u001b[1;32m    542\u001b[0m \u001b[39mfrom an input iterable.  Or, initialize the count from another mapping\u001b[39;00m\n\u001b[1;32m    543\u001b[0m \u001b[39mof elements to their counts.\u001b[39;00m\n\u001b[0;32m   (...)\u001b[0m\n\u001b[1;32m    549\u001b[0m \n\u001b[1;32m    550\u001b[0m \u001b[39m'''\u001b[39;00m\n\u001b[1;32m    551\u001b[0m \u001b[39msuper\u001b[39m(Counter, \u001b[39mself\u001b[39m)\u001b[39m.\u001b[39m\u001b[39m__init__\u001b[39m()\n\u001b[0;32m--> 552\u001b[0m \u001b[39mself\u001b[39;49m\u001b[39m.\u001b[39;49mupdate(iterable, \u001b[39m*\u001b[39;49m\u001b[39m*\u001b[39;49mkwds)\n",
      "File \u001b[0;32m~/anaconda3/envs/bitcoin/lib/python3.8/collections/__init__.py:637\u001b[0m, in \u001b[0;36mCounter.update\u001b[0;34m(self, iterable, **kwds)\u001b[0m\n\u001b[1;32m    635\u001b[0m             \u001b[39msuper\u001b[39m(Counter, \u001b[39mself\u001b[39m)\u001b[39m.\u001b[39mupdate(iterable) \u001b[39m# fast path when counter is empty\u001b[39;00m\n\u001b[1;32m    636\u001b[0m     \u001b[39melse\u001b[39;00m:\n\u001b[0;32m--> 637\u001b[0m         _count_elements(\u001b[39mself\u001b[39;49m, iterable)\n\u001b[1;32m    638\u001b[0m \u001b[39mif\u001b[39;00m kwds:\n\u001b[1;32m    639\u001b[0m     \u001b[39mself\u001b[39m\u001b[39m.\u001b[39mupdate(kwds)\n",
      "\u001b[0;31mTypeError\u001b[0m: unhashable type: 'list'"
     ]
    }
   ],
   "source": [
    "from collections import Counter\n",
    "\n",
    "results = Counter(save_id)\n",
    "print(results)"
   ]
  },
  {
   "cell_type": "code",
   "execution_count": 76,
   "metadata": {},
   "outputs": [],
   "source": [
    "sextortian_list = []\n",
    "for addr, id in save_id:\n",
    "    # if id == 3:\n",
    "    if addr == '1AeiJfKAvGGzVPDiVC72hVtob4PSChZLCT':\n",
    "        print(addr, id)\n",
    "        # sextortian_list.append(addr)"
   ]
  },
  {
   "cell_type": "code",
   "execution_count": 77,
   "metadata": {},
   "outputs": [],
   "source": [
    "for addr in sextortian_list:\n",
    "    addr_condition = raw_data['address'] == addr\n",
    "    raw_data.loc[addr_condition, 'category'] ='sextortian'"
   ]
  },
  {
   "cell_type": "code",
   "execution_count": 78,
   "metadata": {},
   "outputs": [],
   "source": [
    "raw_data.to_csv('abuse_address_new.csv', header=False, index= False)"
   ]
  },
  {
   "cell_type": "code",
   "execution_count": null,
   "metadata": {},
   "outputs": [],
   "source": []
  }
 ],
 "metadata": {
  "kernelspec": {
   "display_name": "Python 3.8.12 ('bitcoin')",
   "language": "python",
   "name": "python3"
  },
  "language_info": {
   "codemirror_mode": {
    "name": "ipython",
    "version": 3
   },
   "file_extension": ".py",
   "mimetype": "text/x-python",
   "name": "python",
   "nbconvert_exporter": "python",
   "pygments_lexer": "ipython3",
   "version": "3.8.12"
  },
  "orig_nbformat": 4,
  "vscode": {
   "interpreter": {
    "hash": "a93570e8df4bfa0c7766a92e33ca1cb64f11a14cdc5b86dbd19ea42b37b82a05"
   }
  }
 },
 "nbformat": 4,
 "nbformat_minor": 2
}
