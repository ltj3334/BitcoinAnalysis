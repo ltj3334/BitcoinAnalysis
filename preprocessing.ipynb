{
 "cells": [
  {
   "cell_type": "code",
   "execution_count": 1,
   "metadata": {},
   "outputs": [
    {
     "name": "stdout",
     "output_type": "stream",
     "text": [
      "['2', '115p7UMMngoj1pMvkpHijcRdfJNXj6LrLn', '1', '', 'wannacry', 'https://bitcointalk.org/index.php?topic=1916199.0', '', 0]\n"
     ]
    }
   ],
   "source": [
    "import csv\n",
    "import re\n",
    "import numpy as np\n",
    "\n",
    "save_data = []\n",
    "\n",
    "with open('records_forever.csv', newline='') as csvfile:\n",
    "    reader = csv.reader(csvfile)\n",
    "    for row in reader:\n",
    "        if len(row[1]) == 34 or len(row[1]) == 42:\n",
    "            row[3] = row[3].lower()\n",
    "            row[4] = row[4].lower()\n",
    "            row[5] = str(row[5]).lower()\n",
    "            row[5] = row[5].replace(\",\",\"\")\n",
    "            _description = row[5].split(\" \")\n",
    "            price = 0\n",
    "            for word in _description:\n",
    "                if '$' in word:\n",
    "                    numbers = re.findall(r'\\d+', word)\n",
    "                    numbers = np.array(list(map(int, numbers)))\n",
    "                    if len(numbers) > 0:\n",
    "                        price = max(numbers)\n",
    "            row.append(price)\n",
    "            save_data.append(row)\n",
    "save_data = save_data[1:]\n",
    "print(save_data[0])"
   ]
  },
  {
   "cell_type": "code",
   "execution_count": 12,
   "metadata": {},
   "outputs": [
    {
     "name": "stdout",
     "output_type": "stream",
     "text": [
      "          id                             address abuse_type_id  \\\n",
      "30374  34487  1J7dPHGmfyHpmNHGPg1dMo9KMrPYdBzSAV             4   \n",
      "\n",
      "      abuse_type_other                                  abuser  \\\n",
      "30374                   joel bosler <lxnataliedkv@outlook.com>   \n",
      "\n",
      "                                             description from_country  price  \n",
      "30374  l?똢t me tell yo?똵 i a?똠tua?똪ly pla?똠?똢d a??ma?...      Hungary  10000  \n"
     ]
    }
   ],
   "source": [
    "\n",
    "import pandas as pd\n",
    "\n",
    "save_df = pd.DataFrame(save_data)\n",
    "save_df.columns = ['id','address', 'abuse_type_id', 'abuse_type_other', 'abuser', 'description', 'from_country','price']\n",
    "# save_df = save_df.drop(['nan'], axis =1)\n",
    "save_df = save_df.drop_duplicates('address')\n",
    "save_df = save_df.fillna('0')\n",
    "\n",
    "save_df.head(100)\n",
    "print(save_df[save_df['address'] == '1J7dPHGmfyHpmNHGPg1dMo9KMrPYdBzSAV'])"
   ]
  },
  {
   "cell_type": "code",
   "execution_count": 3,
   "metadata": {},
   "outputs": [
    {
     "name": "stdout",
     "output_type": "stream",
     "text": [
      "28964 22247 6717\n"
     ]
    }
   ],
   "source": [
    "keyword = \"steal|pa‌ss|setup|install|mаliсiоus|tro‌ja‌n|keylogger|trojan|spoofed|password|pass|pass word|phishing|fishing|hack|Hack|spoofing|bitcointalk.org|jōke|jőke|friends|friend|pοrη|archive|privаte|­­­­p­­o­­r­­n­­|stu‌pi‌d|sеcret|recoŗding|pre‌y|warning|mistake|bomb|ca‌me‌ra‌|vi‌d‌eo‌|こんにちは|joke|a‌cqu‌a‌i‌nta‌nce‌s|relativęs|vids|personal|vi‌si‌te‌d|pedo|erotίc|se‌cre‌ts|ƿorn|dirt|videоtарe|porn|po‌rnogra‌phy|extort|videos|myself addr|stimulating|webcam|indecent|sorcha|lazaro|aaron|sex|porn|adult|video|vi‌deo‌|sextortian|tortian|tortion|Black|FBI|extorsion|fbi|extortion|threatening|threatens|threat|threatning\"\n",
    "check_description = save_df['description'].str.contains(keyword)\n",
    "check_abuser = save_df['abuser'].str.contains(keyword)\n",
    "check_abuse_type = save_df['abuse_type_other'].str.contains(keyword)\n",
    "check_sum = check_description + check_abuser + check_abuse_type\n",
    "\n",
    "sextortian_df = save_df[check_sum]\n",
    "check_df = check_sum * -1\n",
    "none_sextortian_condition = check_df == 0\n",
    "none_sextortian_df = save_df[none_sextortian_condition]\n",
    "print(len(save_df), len(sextortian_df), len(none_sextortian_df))"
   ]
  },
  {
   "cell_type": "code",
   "execution_count": 4,
   "metadata": {},
   "outputs": [
    {
     "name": "stdout",
     "output_type": "stream",
     "text": [
      "6717 2702 4015\n"
     ]
    }
   ],
   "source": [
    "keyword = \"binance|funds|tumbler|fraud|mixing|mining|scam|invest|musk|vitalic|doubler|spam|SCAM|black|False\"\n",
    "check_description = none_sextortian_df['description'].str.contains(keyword)\n",
    "check_abuser = none_sextortian_df['abuser'].str.contains(keyword)\n",
    "check_abuse_type = none_sextortian_df['abuse_type_other'].str.contains(keyword)\n",
    "check_sum = check_description + check_abuser + check_abuse_type\n",
    "\n",
    "scam_df = none_sextortian_df[check_sum]\n",
    "check_df = check_sum * -1\n",
    "none_scam_condition = check_df == 0\n",
    "none_scam_df = none_sextortian_df[none_scam_condition]\n",
    "print(len(none_sextortian_df), len(scam_df), len(none_scam_df))"
   ]
  },
  {
   "cell_type": "code",
   "execution_count": null,
   "metadata": {},
   "outputs": [],
   "source": []
  },
  {
   "cell_type": "code",
   "execution_count": 5,
   "metadata": {},
   "outputs": [
    {
     "name": "stdout",
     "output_type": "stream",
     "text": [
      "4015 423 3592\n"
     ]
    }
   ],
   "source": [
    "keyword = \"crypted|ransom|randsom|ransonware|malvware|malware|virus\"\n",
    "check_description = none_scam_df['description'].str.contains(keyword)\n",
    "check_abuser = none_scam_df['abuser'].str.contains(keyword)\n",
    "check_abuse_type = none_scam_df['abuse_type_other'].str.contains(keyword)\n",
    "check_sum = check_description + check_abuser + check_abuse_type\n",
    "\n",
    "hack_df = none_scam_df[check_sum]\n",
    "check_df = check_sum * -1\n",
    "none_hack_condition = check_df == 0\n",
    "none_hack_df = none_scam_df[none_hack_condition]\n",
    "print(len(none_scam_df), len(hack_df), len(none_hack_df))\n"
   ]
  },
  {
   "cell_type": "code",
   "execution_count": 6,
   "metadata": {},
   "outputs": [
    {
     "name": "stdout",
     "output_type": "stream",
     "text": [
      "3592 65 3527\n"
     ]
    }
   ],
   "source": [
    "check_description = none_hack_df['description'].str.contains(\"dark|Dark\")\n",
    "check_abuser = none_hack_df['abuser'].str.contains(\"dark|Dark\")\n",
    "check_abuse_type = none_hack_df['abuse_type_other'].str.contains(\"dark|Dark\")\n",
    "check_sum = check_description + check_abuser + check_abuse_type\n",
    "\n",
    "dark_df = none_hack_df[check_sum]\n",
    "check_df = check_sum * -1\n",
    "none_dark_condition = check_df == 0\n",
    "none_dark_df = none_hack_df[none_dark_condition]\n",
    "print(len(none_hack_df), len(dark_df), len(none_dark_df))\n"
   ]
  },
  {
   "cell_type": "code",
   "execution_count": 7,
   "metadata": {},
   "outputs": [
    {
     "name": "stderr",
     "output_type": "stream",
     "text": [
      "/tmp/ipykernel_113111/2519413260.py:1: SettingWithCopyWarning: \n",
      "A value is trying to be set on a copy of a slice from a DataFrame.\n",
      "Try using .loc[row_indexer,col_indexer] = value instead\n",
      "\n",
      "See the caveats in the documentation: https://pandas.pydata.org/pandas-docs/stable/user_guide/indexing.html#returning-a-view-versus-a-copy\n",
      "  sextortian_df['category'] = 'sextortian'\n",
      "/tmp/ipykernel_113111/2519413260.py:2: SettingWithCopyWarning: \n",
      "A value is trying to be set on a copy of a slice from a DataFrame.\n",
      "Try using .loc[row_indexer,col_indexer] = value instead\n",
      "\n",
      "See the caveats in the documentation: https://pandas.pydata.org/pandas-docs/stable/user_guide/indexing.html#returning-a-view-versus-a-copy\n",
      "  scam_df['category'] = 'scam'\n",
      "/tmp/ipykernel_113111/2519413260.py:3: SettingWithCopyWarning: \n",
      "A value is trying to be set on a copy of a slice from a DataFrame.\n",
      "Try using .loc[row_indexer,col_indexer] = value instead\n",
      "\n",
      "See the caveats in the documentation: https://pandas.pydata.org/pandas-docs/stable/user_guide/indexing.html#returning-a-view-versus-a-copy\n",
      "  hack_df['category'] = 'hack'\n",
      "/tmp/ipykernel_113111/2519413260.py:4: SettingWithCopyWarning: \n",
      "A value is trying to be set on a copy of a slice from a DataFrame.\n",
      "Try using .loc[row_indexer,col_indexer] = value instead\n",
      "\n",
      "See the caveats in the documentation: https://pandas.pydata.org/pandas-docs/stable/user_guide/indexing.html#returning-a-view-versus-a-copy\n",
      "  dark_df['category'] = 'darknet'\n",
      "/tmp/ipykernel_113111/2519413260.py:5: SettingWithCopyWarning: \n",
      "A value is trying to be set on a copy of a slice from a DataFrame.\n",
      "Try using .loc[row_indexer,col_indexer] = value instead\n",
      "\n",
      "See the caveats in the documentation: https://pandas.pydata.org/pandas-docs/stable/user_guide/indexing.html#returning-a-view-versus-a-copy\n",
      "  none_dark_df['category'] = 'other'\n"
     ]
    }
   ],
   "source": [
    "sextortian_df['category'] = 'sextortian'\n",
    "scam_df['category'] = 'scam'\n",
    "hack_df['category'] = 'hack'\n",
    "dark_df['category'] = 'darknet'\n",
    "none_dark_df['category'] = 'other'\n",
    "\n",
    "# save_df.columns = ['id','address', 'abuse_type_id', 'abuse_type_other', 'abuser', 'description', 'from_country','price']\n",
    "merge_df = pd.concat([sextortian_df, scam_df, hack_df, dark_df, none_dark_df])\n",
    "save_merge_df = pd.concat([merge_df['address'], merge_df['category'],merge_df['price']], axis = 1)\n",
    "check_price = save_merge_df['price'] > 0\n",
    "save_merge_df = save_merge_df[check_price]\n",
    "\n",
    "\n",
    "# save_merge_df.to_csv('abuse_address.csv', header=False, index=False)"
   ]
  },
  {
   "cell_type": "code",
   "execution_count": null,
   "metadata": {},
   "outputs": [],
   "source": []
  }
 ],
 "metadata": {
  "kernelspec": {
   "display_name": "Python 3.8.12 ('bitcoin')",
   "language": "python",
   "name": "python3"
  },
  "language_info": {
   "codemirror_mode": {
    "name": "ipython",
    "version": 3
   },
   "file_extension": ".py",
   "mimetype": "text/x-python",
   "name": "python",
   "nbconvert_exporter": "python",
   "pygments_lexer": "ipython3",
   "version": "3.8.12"
  },
  "orig_nbformat": 4,
  "vscode": {
   "interpreter": {
    "hash": "a93570e8df4bfa0c7766a92e33ca1cb64f11a14cdc5b86dbd19ea42b37b82a05"
   }
  }
 },
 "nbformat": 4,
 "nbformat_minor": 2
}
